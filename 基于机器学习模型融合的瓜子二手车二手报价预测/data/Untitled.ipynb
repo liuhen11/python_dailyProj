{
 "cells": [
  {
   "cell_type": "code",
   "execution_count": 226,
   "id": "fatty-meter",
   "metadata": {},
   "outputs": [],
   "source": [
    "import numpy as np\n",
    "import pandas as pd\n",
    "import seaborn as sns\n",
    "import matplotlib.pyplot as plt\n",
    "plt.rcParams['font.sans-serif']=['SimHei'] #用来正常显示中文标签\n",
    "plt.rcParams['axes.unicode_minus']=False #用来正常显示负号"
   ]
  },
  {
   "cell_type": "code",
   "execution_count": 9,
   "id": "cardiovascular-miracle",
   "metadata": {},
   "outputs": [
    {
     "data": {
      "text/html": [
       "<div>\n",
       "<style scoped>\n",
       "    .dataframe tbody tr th:only-of-type {\n",
       "        vertical-align: middle;\n",
       "    }\n",
       "\n",
       "    .dataframe tbody tr th {\n",
       "        vertical-align: top;\n",
       "    }\n",
       "\n",
       "    .dataframe thead th {\n",
       "        text-align: right;\n",
       "    }\n",
       "</style>\n",
       "<table border=\"1\" class=\"dataframe\">\n",
       "  <thead>\n",
       "    <tr style=\"text-align: right;\">\n",
       "      <th></th>\n",
       "      <th>车型_品牌</th>\n",
       "      <th>车主报价（万）</th>\n",
       "      <th>新车指导价（万）</th>\n",
       "      <th>车牌注册日期</th>\n",
       "      <th>里程（万公里）</th>\n",
       "      <th>排量</th>\n",
       "      <th>变速箱</th>\n",
       "    </tr>\n",
       "  </thead>\n",
       "  <tbody>\n",
       "    <tr>\n",
       "      <th>0</th>\n",
       "      <td>大众 途观 2010款 2.0TSI 自动四驱菁英版</td>\n",
       "      <td>8.70</td>\n",
       "      <td>30.59</td>\n",
       "      <td>2011年</td>\n",
       "      <td>6.54万公里</td>\n",
       "      <td>2.0T</td>\n",
       "      <td>自动</td>\n",
       "    </tr>\n",
       "    <tr>\n",
       "      <th>1</th>\n",
       "      <td>大众 速腾 2014款 改款 1.4TSI 手动豪华型</td>\n",
       "      <td>6.70</td>\n",
       "      <td>16.69</td>\n",
       "      <td>2015年</td>\n",
       "      <td>5.2万公里</td>\n",
       "      <td>1.4T</td>\n",
       "      <td>手动</td>\n",
       "    </tr>\n",
       "    <tr>\n",
       "      <th>2</th>\n",
       "      <td>大众 迈腾 2012款 改款 1.8TSI 领先型</td>\n",
       "      <td>8.00</td>\n",
       "      <td>23.86</td>\n",
       "      <td>2012年</td>\n",
       "      <td>15.1万公里</td>\n",
       "      <td>1.8T</td>\n",
       "      <td>自动</td>\n",
       "    </tr>\n",
       "    <tr>\n",
       "      <th>3</th>\n",
       "      <td>大众 宝来 2012款 1.6L 自动时尚型</td>\n",
       "      <td>4.78</td>\n",
       "      <td>13.00</td>\n",
       "      <td>2012年</td>\n",
       "      <td>11.8万公里</td>\n",
       "      <td>1.6L</td>\n",
       "      <td>自动</td>\n",
       "    </tr>\n",
       "    <tr>\n",
       "      <th>4</th>\n",
       "      <td>大众 朗逸 2013款 改款经典 1.6L 自动风尚版</td>\n",
       "      <td>6.98</td>\n",
       "      <td>13.56</td>\n",
       "      <td>2017年</td>\n",
       "      <td>3.37万公里</td>\n",
       "      <td>1.6L</td>\n",
       "      <td>自动</td>\n",
       "    </tr>\n",
       "    <tr>\n",
       "      <th>...</th>\n",
       "      <td>...</td>\n",
       "      <td>...</td>\n",
       "      <td>...</td>\n",
       "      <td>...</td>\n",
       "      <td>...</td>\n",
       "      <td>...</td>\n",
       "      <td>...</td>\n",
       "    </tr>\n",
       "    <tr>\n",
       "      <th>33830</th>\n",
       "      <td>大众 捷达 2019款 梦想版 1.5L 自动时尚型</td>\n",
       "      <td>6.88</td>\n",
       "      <td>10.29</td>\n",
       "      <td>2019年</td>\n",
       "      <td>2.8万公里</td>\n",
       "      <td>1.5L</td>\n",
       "      <td>自动</td>\n",
       "    </tr>\n",
       "    <tr>\n",
       "      <th>33831</th>\n",
       "      <td>大众 捷达 2017款 1.4L 手动时尚型</td>\n",
       "      <td>5.20</td>\n",
       "      <td>8.67</td>\n",
       "      <td>2019年</td>\n",
       "      <td>2.2万公里</td>\n",
       "      <td>1.4L</td>\n",
       "      <td>手动</td>\n",
       "    </tr>\n",
       "    <tr>\n",
       "      <th>33832</th>\n",
       "      <td>大众 捷达 2015款 1.4L 手动舒适型</td>\n",
       "      <td>4.48</td>\n",
       "      <td>10.07</td>\n",
       "      <td>2016年</td>\n",
       "      <td>7.86万公里</td>\n",
       "      <td>1.4L</td>\n",
       "      <td>手动</td>\n",
       "    </tr>\n",
       "    <tr>\n",
       "      <th>33833</th>\n",
       "      <td>大众 捷达 2017款 1.5L 自动时尚型</td>\n",
       "      <td>5.80</td>\n",
       "      <td>10.38</td>\n",
       "      <td>2017年</td>\n",
       "      <td>3万公里</td>\n",
       "      <td>1.5L</td>\n",
       "      <td>自动</td>\n",
       "    </tr>\n",
       "    <tr>\n",
       "      <th>33834</th>\n",
       "      <td>大众 捷达 2013款 1.6L 自动豪华型</td>\n",
       "      <td>4.60</td>\n",
       "      <td>12.95</td>\n",
       "      <td>2013年</td>\n",
       "      <td>3万公里</td>\n",
       "      <td>1.6L</td>\n",
       "      <td>自动</td>\n",
       "    </tr>\n",
       "  </tbody>\n",
       "</table>\n",
       "<p>33835 rows × 7 columns</p>\n",
       "</div>"
      ],
      "text/plain": [
       "                             车型_品牌  车主报价（万）  新车指导价（万） 车牌注册日期  里程（万公里）    排量  \\\n",
       "0       大众 途观 2010款 2.0TSI 自动四驱菁英版     8.70     30.59  2011年  6.54万公里  2.0T   \n",
       "1      大众 速腾 2014款 改款 1.4TSI 手动豪华型     6.70     16.69  2015年   5.2万公里  1.4T   \n",
       "2        大众 迈腾 2012款 改款 1.8TSI 领先型     8.00     23.86  2012年  15.1万公里  1.8T   \n",
       "3           大众 宝来 2012款 1.6L 自动时尚型     4.78     13.00  2012年  11.8万公里  1.6L   \n",
       "4      大众 朗逸 2013款 改款经典 1.6L 自动风尚版     6.98     13.56  2017年  3.37万公里  1.6L   \n",
       "...                            ...      ...       ...    ...      ...   ...   \n",
       "33830   大众 捷达 2019款 梦想版 1.5L 自动时尚型     6.88     10.29  2019年   2.8万公里  1.5L   \n",
       "33831       大众 捷达 2017款 1.4L 手动时尚型     5.20      8.67  2019年   2.2万公里  1.4L   \n",
       "33832       大众 捷达 2015款 1.4L 手动舒适型     4.48     10.07  2016年  7.86万公里  1.4L   \n",
       "33833       大众 捷达 2017款 1.5L 自动时尚型     5.80     10.38  2017年     3万公里  1.5L   \n",
       "33834       大众 捷达 2013款 1.6L 自动豪华型     4.60     12.95  2013年     3万公里  1.6L   \n",
       "\n",
       "      变速箱  \n",
       "0      自动  \n",
       "1      手动  \n",
       "2      自动  \n",
       "3      自动  \n",
       "4      自动  \n",
       "...    ..  \n",
       "33830  自动  \n",
       "33831  手动  \n",
       "33832  手动  \n",
       "33833  自动  \n",
       "33834  自动  \n",
       "\n",
       "[33835 rows x 7 columns]"
      ]
     },
     "execution_count": 9,
     "metadata": {},
     "output_type": "execute_result"
    }
   ],
   "source": [
    "carData = pd.read_csv('dataCar_Columns.csv')\n",
    "carData1 = carData.drop('Unnamed: 0',axis=1)\n",
    "carData1"
   ]
  },
  {
   "cell_type": "code",
   "execution_count": 11,
   "id": "front-gender",
   "metadata": {},
   "outputs": [
    {
     "name": "stdout",
     "output_type": "stream",
     "text": [
      "<class 'pandas.core.frame.DataFrame'>\n",
      "RangeIndex: 33835 entries, 0 to 33834\n",
      "Data columns (total 7 columns):\n",
      " #   Column    Non-Null Count  Dtype  \n",
      "---  ------    --------------  -----  \n",
      " 0   车型_品牌     33835 non-null  object \n",
      " 1   车主报价（万）   33835 non-null  float64\n",
      " 2   新车指导价（万）  33835 non-null  float64\n",
      " 3   车牌注册日期    33835 non-null  object \n",
      " 4   里程（万公里）   33835 non-null  object \n",
      " 5   排量        33835 non-null  object \n",
      " 6   变速箱       33835 non-null  object \n",
      "dtypes: float64(2), object(5)\n",
      "memory usage: 1.8+ MB\n"
     ]
    }
   ],
   "source": [
    "carData1.info()"
   ]
  },
  {
   "cell_type": "code",
   "execution_count": 13,
   "id": "ignored-warrant",
   "metadata": {},
   "outputs": [
    {
     "data": {
      "text/plain": [
       "(33835, 7)"
      ]
     },
     "execution_count": 13,
     "metadata": {},
     "output_type": "execute_result"
    }
   ],
   "source": [
    "carData1.shape"
   ]
  },
  {
   "cell_type": "code",
   "execution_count": 15,
   "id": "angry-metallic",
   "metadata": {},
   "outputs": [
    {
     "data": {
      "text/plain": [
       "车型_品牌       0\n",
       "车主报价（万）     0\n",
       "新车指导价（万）    0\n",
       "车牌注册日期      0\n",
       "里程（万公里）     0\n",
       "排量          0\n",
       "变速箱         0\n",
       "dtype: int64"
      ]
     },
     "execution_count": 15,
     "metadata": {},
     "output_type": "execute_result"
    }
   ],
   "source": [
    "carData1.isnull().sum()"
   ]
  },
  {
   "cell_type": "code",
   "execution_count": 17,
   "id": "technological-defense",
   "metadata": {},
   "outputs": [
    {
     "data": {
      "text/html": [
       "<div>\n",
       "<style scoped>\n",
       "    .dataframe tbody tr th:only-of-type {\n",
       "        vertical-align: middle;\n",
       "    }\n",
       "\n",
       "    .dataframe tbody tr th {\n",
       "        vertical-align: top;\n",
       "    }\n",
       "\n",
       "    .dataframe thead th {\n",
       "        text-align: right;\n",
       "    }\n",
       "</style>\n",
       "<table border=\"1\" class=\"dataframe\">\n",
       "  <thead>\n",
       "    <tr style=\"text-align: right;\">\n",
       "      <th></th>\n",
       "      <th>车主报价（万）</th>\n",
       "      <th>新车指导价（万）</th>\n",
       "    </tr>\n",
       "  </thead>\n",
       "  <tbody>\n",
       "    <tr>\n",
       "      <th>count</th>\n",
       "      <td>33835.000000</td>\n",
       "      <td>33835.000000</td>\n",
       "    </tr>\n",
       "    <tr>\n",
       "      <th>mean</th>\n",
       "      <td>12.220385</td>\n",
       "      <td>22.576605</td>\n",
       "    </tr>\n",
       "    <tr>\n",
       "      <th>std</th>\n",
       "      <td>8.998722</td>\n",
       "      <td>15.175450</td>\n",
       "    </tr>\n",
       "    <tr>\n",
       "      <th>min</th>\n",
       "      <td>0.660000</td>\n",
       "      <td>4.110000</td>\n",
       "    </tr>\n",
       "    <tr>\n",
       "      <th>25%</th>\n",
       "      <td>6.800000</td>\n",
       "      <td>13.330000</td>\n",
       "    </tr>\n",
       "    <tr>\n",
       "      <th>50%</th>\n",
       "      <td>9.680000</td>\n",
       "      <td>18.210000</td>\n",
       "    </tr>\n",
       "    <tr>\n",
       "      <th>75%</th>\n",
       "      <td>14.800000</td>\n",
       "      <td>27.440000</td>\n",
       "    </tr>\n",
       "    <tr>\n",
       "      <th>max</th>\n",
       "      <td>99.990000</td>\n",
       "      <td>334.320000</td>\n",
       "    </tr>\n",
       "  </tbody>\n",
       "</table>\n",
       "</div>"
      ],
      "text/plain": [
       "            车主报价（万）      新车指导价（万）\n",
       "count  33835.000000  33835.000000\n",
       "mean      12.220385     22.576605\n",
       "std        8.998722     15.175450\n",
       "min        0.660000      4.110000\n",
       "25%        6.800000     13.330000\n",
       "50%        9.680000     18.210000\n",
       "75%       14.800000     27.440000\n",
       "max       99.990000    334.320000"
      ]
     },
     "execution_count": 17,
     "metadata": {},
     "output_type": "execute_result"
    }
   ],
   "source": [
    "carData1.describe()"
   ]
  },
  {
   "cell_type": "code",
   "execution_count": 67,
   "id": "opened-description",
   "metadata": {},
   "outputs": [
    {
     "data": {
      "text/plain": [
       "array(['自动', '手动', '1.5L', '4.0L', '1.5T'], dtype=object)"
      ]
     },
     "execution_count": 67,
     "metadata": {},
     "output_type": "execute_result"
    }
   ],
   "source": [
    "# 数据清洗\n",
    "\n",
    "# 异常值处理\n",
    "carData1['变速箱'].unique()"
   ]
  },
  {
   "cell_type": "code",
   "execution_count": 68,
   "id": "royal-fifth",
   "metadata": {},
   "outputs": [
    {
     "data": {
      "text/plain": [
       "array(['2.0T', '1.4T', '1.8T', '1.6L', '1.4L', '1.5L', '3.0T', '1.2T',\n",
       "       '2.0L', '3.6L', '3.0L', '2.5T', '1.8L', '2.5L', '1.6T', '1.5T',\n",
       "       '4.4T', '1.7L', '3.5L', '1.3T', '4.0T', '6.2L', '5.5T', '5.5L',\n",
       "       '30.0L', '4.7L', '2.7L', '4.0L', '1.3L', '2.4L', '5.7L', '4.6L',\n",
       "       '2.6L', '4.3L', '成都', '2.7T', '1.0T', '2.9T', '2.8L', '4.2L',\n",
       "       '14.0T', '3.6T', '3.2L', '5.6L', '3.8T', '2.3L', '2.3T', '2.8T',\n",
       "       '3.5T', '2.2T', '2.4T', '3.8L', '9.8L', '1.2L', '0.8L', '1.0L',\n",
       "       '4.8L', '1.9T', '5.0L', '3.4L', '1.1T', '10.0L', '18.0T', '0.0L',\n",
       "       '16.0L'], dtype=object)"
      ]
     },
     "execution_count": 68,
     "metadata": {},
     "output_type": "execute_result"
    }
   ],
   "source": [
    "carData1['排量'].unique()"
   ]
  },
  {
   "cell_type": "code",
   "execution_count": 70,
   "id": "enhanced-newspaper",
   "metadata": {},
   "outputs": [
    {
     "data": {
      "text/plain": [
       "array(['2.0T', '1.4T', '1.8T', '1.6L', '1.4L', '1.5L', '3.0T', '1.2T',\n",
       "       '2.0L', '3.6L', '3.0L', '2.5T', '1.8L', '2.5L', '1.6T', '1.5T',\n",
       "       '4.4T', '1.7L', '3.5L', '1.3T', '4.0T', '6.2L', '5.5T', '5.5L',\n",
       "       '30.0L', '4.7L', '2.7L', '4.0L', '1.3L', '2.4L', '5.7L', '4.6L',\n",
       "       '2.6L', '4.3L', '2.7T', '1.0T', '2.9T', '2.8L', '4.2L', '14.0T',\n",
       "       '3.6T', '3.2L', '5.6L', '3.8T', '2.3L', '2.3T', '2.8T', '3.5T',\n",
       "       '2.2T', '2.4T', '3.8L', '9.8L', '1.2L', '0.8L', '1.0L', '4.8L',\n",
       "       '1.9T', '5.0L', '3.4L', '1.1T', '10.0L', '18.0T', '0.0L', '16.0L'],\n",
       "      dtype=object)"
      ]
     },
     "execution_count": 70,
     "metadata": {},
     "output_type": "execute_result"
    }
   ],
   "source": [
    "# 删除异常值，选择删除异常值之后的数据\n",
    "df1=carData1[carData1['变速箱'].isin(['自动', '手动'])]\n",
    "df1['排量'].unique()"
   ]
  },
  {
   "cell_type": "code",
   "execution_count": 76,
   "id": "other-carol",
   "metadata": {},
   "outputs": [
    {
     "data": {
      "text/plain": [
       "array(['2.0T', '1.4T', '1.8T', '1.6L', '1.4L', '1.5L', '3.0T', '1.2T',\n",
       "       '2.0L', '3.6L', '3.0L', '2.5T', '1.8L', '2.5L', '1.6T', '1.5T',\n",
       "       '4.4T', '1.7L', '3.5L', '1.3T', '4.0T', '6.2L', '5.5T', '5.5L',\n",
       "       '30.0L', '4.7L', '2.7L', '4.0L', '1.3L', '2.4L', '5.7L', '4.6L',\n",
       "       '2.6L', '4.3L', '2.7T', '1.0T', '2.9T', '2.8L', '4.2L', '14.0T',\n",
       "       '3.6T', '3.2L', '5.6L', '3.8T', '2.3L', '2.3T', '2.8T', '3.5T',\n",
       "       '2.2T', '2.4T', '3.8L', '9.8L', '1.2L', '0.8L', '1.0L', '4.8L',\n",
       "       '1.9T', '5.0L', '3.4L', '1.1T', '10.0L', '18.0T', '0.0L', '16.0L'],\n",
       "      dtype=object)"
      ]
     },
     "execution_count": 76,
     "metadata": {},
     "output_type": "execute_result"
    }
   ],
   "source": [
    "# 将所有可能的字符类变量转换为数值变量\n",
    "df1['变速箱'].replace({'自动':0,'手动':1},inplace=True)\n",
    "df1['排量'].unique()"
   ]
  },
  {
   "cell_type": "code",
   "execution_count": 87,
   "id": "lucky-planner",
   "metadata": {},
   "outputs": [
    {
     "ename": "AttributeError",
     "evalue": "Can only use .str accessor with string values!",
     "output_type": "error",
     "traceback": [
      "\u001b[1;31m---------------------------------------------------------------------------\u001b[0m",
      "\u001b[1;31mAttributeError\u001b[0m                            Traceback (most recent call last)",
      "\u001b[1;32m<ipython-input-87-0bc321083785>\u001b[0m in \u001b[0;36m<module>\u001b[1;34m\u001b[0m\n\u001b[1;32m----> 1\u001b[1;33m \u001b[0mdf1\u001b[0m\u001b[1;33m[\u001b[0m\u001b[1;34m'里程（万公里）'\u001b[0m\u001b[1;33m]\u001b[0m \u001b[1;33m=\u001b[0m \u001b[0mdf1\u001b[0m\u001b[1;33m[\u001b[0m\u001b[1;34m'里程（万公里）'\u001b[0m\u001b[1;33m]\u001b[0m\u001b[1;33m.\u001b[0m\u001b[0mstr\u001b[0m\u001b[1;33m.\u001b[0m\u001b[0msplit\u001b[0m\u001b[1;33m(\u001b[0m\u001b[1;34m'万公里'\u001b[0m\u001b[1;33m,\u001b[0m \u001b[0mexpand\u001b[0m\u001b[1;33m=\u001b[0m\u001b[1;32mTrue\u001b[0m\u001b[1;33m)\u001b[0m\u001b[1;33m[\u001b[0m\u001b[1;36m0\u001b[0m\u001b[1;33m]\u001b[0m\u001b[1;33m.\u001b[0m\u001b[0mapply\u001b[0m\u001b[1;33m(\u001b[0m\u001b[0mpd\u001b[0m\u001b[1;33m.\u001b[0m\u001b[0mto_numeric\u001b[0m\u001b[1;33m,\u001b[0m \u001b[0merrors\u001b[0m \u001b[1;33m=\u001b[0m\u001b[1;34m'ignore'\u001b[0m\u001b[1;33m)\u001b[0m\u001b[1;33m\u001b[0m\u001b[1;33m\u001b[0m\u001b[0m\n\u001b[0m\u001b[0;32m      2\u001b[0m \u001b[0mdf1\u001b[0m\u001b[1;33m\u001b[0m\u001b[1;33m\u001b[0m\u001b[0m\n",
      "\u001b[1;32mD:\\Program Files (x86)\\Anaconda3\\envs\\myfirstpytorch\\lib\\site-packages\\pandas\\core\\generic.py\u001b[0m in \u001b[0;36m__getattr__\u001b[1;34m(self, name)\u001b[0m\n\u001b[0;32m   5459\u001b[0m             \u001b[1;32mor\u001b[0m \u001b[0mname\u001b[0m \u001b[1;32min\u001b[0m \u001b[0mself\u001b[0m\u001b[1;33m.\u001b[0m\u001b[0m_accessors\u001b[0m\u001b[1;33m\u001b[0m\u001b[1;33m\u001b[0m\u001b[0m\n\u001b[0;32m   5460\u001b[0m         ):\n\u001b[1;32m-> 5461\u001b[1;33m             \u001b[1;32mreturn\u001b[0m \u001b[0mobject\u001b[0m\u001b[1;33m.\u001b[0m\u001b[0m__getattribute__\u001b[0m\u001b[1;33m(\u001b[0m\u001b[0mself\u001b[0m\u001b[1;33m,\u001b[0m \u001b[0mname\u001b[0m\u001b[1;33m)\u001b[0m\u001b[1;33m\u001b[0m\u001b[1;33m\u001b[0m\u001b[0m\n\u001b[0m\u001b[0;32m   5462\u001b[0m         \u001b[1;32melse\u001b[0m\u001b[1;33m:\u001b[0m\u001b[1;33m\u001b[0m\u001b[1;33m\u001b[0m\u001b[0m\n\u001b[0;32m   5463\u001b[0m             \u001b[1;32mif\u001b[0m \u001b[0mself\u001b[0m\u001b[1;33m.\u001b[0m\u001b[0m_info_axis\u001b[0m\u001b[1;33m.\u001b[0m\u001b[0m_can_hold_identifiers_and_holds_name\u001b[0m\u001b[1;33m(\u001b[0m\u001b[0mname\u001b[0m\u001b[1;33m)\u001b[0m\u001b[1;33m:\u001b[0m\u001b[1;33m\u001b[0m\u001b[1;33m\u001b[0m\u001b[0m\n",
      "\u001b[1;32mD:\\Program Files (x86)\\Anaconda3\\envs\\myfirstpytorch\\lib\\site-packages\\pandas\\core\\accessor.py\u001b[0m in \u001b[0;36m__get__\u001b[1;34m(self, obj, cls)\u001b[0m\n\u001b[0;32m    178\u001b[0m             \u001b[1;31m# we're accessing the attribute of the class, i.e., Dataset.geo\u001b[0m\u001b[1;33m\u001b[0m\u001b[1;33m\u001b[0m\u001b[1;33m\u001b[0m\u001b[0m\n\u001b[0;32m    179\u001b[0m             \u001b[1;32mreturn\u001b[0m \u001b[0mself\u001b[0m\u001b[1;33m.\u001b[0m\u001b[0m_accessor\u001b[0m\u001b[1;33m\u001b[0m\u001b[1;33m\u001b[0m\u001b[0m\n\u001b[1;32m--> 180\u001b[1;33m         \u001b[0maccessor_obj\u001b[0m \u001b[1;33m=\u001b[0m \u001b[0mself\u001b[0m\u001b[1;33m.\u001b[0m\u001b[0m_accessor\u001b[0m\u001b[1;33m(\u001b[0m\u001b[0mobj\u001b[0m\u001b[1;33m)\u001b[0m\u001b[1;33m\u001b[0m\u001b[1;33m\u001b[0m\u001b[0m\n\u001b[0m\u001b[0;32m    181\u001b[0m         \u001b[1;31m# Replace the property with the accessor object. Inspired by:\u001b[0m\u001b[1;33m\u001b[0m\u001b[1;33m\u001b[0m\u001b[1;33m\u001b[0m\u001b[0m\n\u001b[0;32m    182\u001b[0m         \u001b[1;31m# https://www.pydanny.com/cached-property.html\u001b[0m\u001b[1;33m\u001b[0m\u001b[1;33m\u001b[0m\u001b[1;33m\u001b[0m\u001b[0m\n",
      "\u001b[1;32mD:\\Program Files (x86)\\Anaconda3\\envs\\myfirstpytorch\\lib\\site-packages\\pandas\\core\\strings\\accessor.py\u001b[0m in \u001b[0;36m__init__\u001b[1;34m(self, data)\u001b[0m\n\u001b[0;32m    152\u001b[0m         \u001b[1;32mfrom\u001b[0m \u001b[0mpandas\u001b[0m\u001b[1;33m.\u001b[0m\u001b[0mcore\u001b[0m\u001b[1;33m.\u001b[0m\u001b[0marrays\u001b[0m\u001b[1;33m.\u001b[0m\u001b[0mstring_\u001b[0m \u001b[1;32mimport\u001b[0m \u001b[0mStringDtype\u001b[0m\u001b[1;33m\u001b[0m\u001b[1;33m\u001b[0m\u001b[0m\n\u001b[0;32m    153\u001b[0m \u001b[1;33m\u001b[0m\u001b[0m\n\u001b[1;32m--> 154\u001b[1;33m         \u001b[0mself\u001b[0m\u001b[1;33m.\u001b[0m\u001b[0m_inferred_dtype\u001b[0m \u001b[1;33m=\u001b[0m \u001b[0mself\u001b[0m\u001b[1;33m.\u001b[0m\u001b[0m_validate\u001b[0m\u001b[1;33m(\u001b[0m\u001b[0mdata\u001b[0m\u001b[1;33m)\u001b[0m\u001b[1;33m\u001b[0m\u001b[1;33m\u001b[0m\u001b[0m\n\u001b[0m\u001b[0;32m    155\u001b[0m         \u001b[0mself\u001b[0m\u001b[1;33m.\u001b[0m\u001b[0m_is_categorical\u001b[0m \u001b[1;33m=\u001b[0m \u001b[0mis_categorical_dtype\u001b[0m\u001b[1;33m(\u001b[0m\u001b[0mdata\u001b[0m\u001b[1;33m.\u001b[0m\u001b[0mdtype\u001b[0m\u001b[1;33m)\u001b[0m\u001b[1;33m\u001b[0m\u001b[1;33m\u001b[0m\u001b[0m\n\u001b[0;32m    156\u001b[0m         \u001b[0mself\u001b[0m\u001b[1;33m.\u001b[0m\u001b[0m_is_string\u001b[0m \u001b[1;33m=\u001b[0m \u001b[0misinstance\u001b[0m\u001b[1;33m(\u001b[0m\u001b[0mdata\u001b[0m\u001b[1;33m.\u001b[0m\u001b[0mdtype\u001b[0m\u001b[1;33m,\u001b[0m \u001b[0mStringDtype\u001b[0m\u001b[1;33m)\u001b[0m\u001b[1;33m\u001b[0m\u001b[1;33m\u001b[0m\u001b[0m\n",
      "\u001b[1;32mD:\\Program Files (x86)\\Anaconda3\\envs\\myfirstpytorch\\lib\\site-packages\\pandas\\core\\strings\\accessor.py\u001b[0m in \u001b[0;36m_validate\u001b[1;34m(data)\u001b[0m\n\u001b[0;32m    215\u001b[0m \u001b[1;33m\u001b[0m\u001b[0m\n\u001b[0;32m    216\u001b[0m         \u001b[1;32mif\u001b[0m \u001b[0minferred_dtype\u001b[0m \u001b[1;32mnot\u001b[0m \u001b[1;32min\u001b[0m \u001b[0mallowed_types\u001b[0m\u001b[1;33m:\u001b[0m\u001b[1;33m\u001b[0m\u001b[1;33m\u001b[0m\u001b[0m\n\u001b[1;32m--> 217\u001b[1;33m             \u001b[1;32mraise\u001b[0m \u001b[0mAttributeError\u001b[0m\u001b[1;33m(\u001b[0m\u001b[1;34m\"Can only use .str accessor with string values!\"\u001b[0m\u001b[1;33m)\u001b[0m\u001b[1;33m\u001b[0m\u001b[1;33m\u001b[0m\u001b[0m\n\u001b[0m\u001b[0;32m    218\u001b[0m         \u001b[1;32mreturn\u001b[0m \u001b[0minferred_dtype\u001b[0m\u001b[1;33m\u001b[0m\u001b[1;33m\u001b[0m\u001b[0m\n\u001b[0;32m    219\u001b[0m \u001b[1;33m\u001b[0m\u001b[0m\n",
      "\u001b[1;31mAttributeError\u001b[0m: Can only use .str accessor with string values!"
     ]
    }
   ],
   "source": [
    "df1['里程（万公里）'] = df1['里程（万公里）'].str.split('万公里', expand=True)[0].apply(pd.to_numeric, errors ='ignore')"
   ]
  },
  {
   "cell_type": "code",
   "execution_count": 93,
   "id": "bored-relaxation",
   "metadata": {},
   "outputs": [
    {
     "name": "stderr",
     "output_type": "stream",
     "text": [
      "D:\\Program Files (x86)\\Anaconda3\\envs\\myfirstpytorch\\lib\\site-packages\\ipykernel_launcher.py:1: SettingWithCopyWarning: \n",
      "A value is trying to be set on a copy of a slice from a DataFrame.\n",
      "Try using .loc[row_indexer,col_indexer] = value instead\n",
      "\n",
      "See the caveats in the documentation: https://pandas.pydata.org/pandas-docs/stable/user_guide/indexing.html#returning-a-view-versus-a-copy\n",
      "  \"\"\"Entry point for launching an IPython kernel.\n"
     ]
    },
    {
     "data": {
      "text/html": [
       "<div>\n",
       "<style scoped>\n",
       "    .dataframe tbody tr th:only-of-type {\n",
       "        vertical-align: middle;\n",
       "    }\n",
       "\n",
       "    .dataframe tbody tr th {\n",
       "        vertical-align: top;\n",
       "    }\n",
       "\n",
       "    .dataframe thead th {\n",
       "        text-align: right;\n",
       "    }\n",
       "</style>\n",
       "<table border=\"1\" class=\"dataframe\">\n",
       "  <thead>\n",
       "    <tr style=\"text-align: right;\">\n",
       "      <th></th>\n",
       "      <th>车型_品牌</th>\n",
       "      <th>车主报价（万）</th>\n",
       "      <th>新车指导价（万）</th>\n",
       "      <th>车牌注册日期</th>\n",
       "      <th>里程（万公里）</th>\n",
       "      <th>排量</th>\n",
       "      <th>变速箱</th>\n",
       "    </tr>\n",
       "  </thead>\n",
       "  <tbody>\n",
       "    <tr>\n",
       "      <th>0</th>\n",
       "      <td>大众 途观 2010款 2.0TSI 自动四驱菁英版</td>\n",
       "      <td>8.70</td>\n",
       "      <td>30.59</td>\n",
       "      <td>2011</td>\n",
       "      <td>6.54</td>\n",
       "      <td>2.0T</td>\n",
       "      <td>0</td>\n",
       "    </tr>\n",
       "    <tr>\n",
       "      <th>1</th>\n",
       "      <td>大众 速腾 2014款 改款 1.4TSI 手动豪华型</td>\n",
       "      <td>6.70</td>\n",
       "      <td>16.69</td>\n",
       "      <td>2015</td>\n",
       "      <td>5.20</td>\n",
       "      <td>1.4T</td>\n",
       "      <td>1</td>\n",
       "    </tr>\n",
       "    <tr>\n",
       "      <th>2</th>\n",
       "      <td>大众 迈腾 2012款 改款 1.8TSI 领先型</td>\n",
       "      <td>8.00</td>\n",
       "      <td>23.86</td>\n",
       "      <td>2012</td>\n",
       "      <td>15.10</td>\n",
       "      <td>1.8T</td>\n",
       "      <td>0</td>\n",
       "    </tr>\n",
       "    <tr>\n",
       "      <th>3</th>\n",
       "      <td>大众 宝来 2012款 1.6L 自动时尚型</td>\n",
       "      <td>4.78</td>\n",
       "      <td>13.00</td>\n",
       "      <td>2012</td>\n",
       "      <td>11.80</td>\n",
       "      <td>1.6L</td>\n",
       "      <td>0</td>\n",
       "    </tr>\n",
       "    <tr>\n",
       "      <th>4</th>\n",
       "      <td>大众 朗逸 2013款 改款经典 1.6L 自动风尚版</td>\n",
       "      <td>6.98</td>\n",
       "      <td>13.56</td>\n",
       "      <td>2017</td>\n",
       "      <td>3.37</td>\n",
       "      <td>1.6L</td>\n",
       "      <td>0</td>\n",
       "    </tr>\n",
       "    <tr>\n",
       "      <th>...</th>\n",
       "      <td>...</td>\n",
       "      <td>...</td>\n",
       "      <td>...</td>\n",
       "      <td>...</td>\n",
       "      <td>...</td>\n",
       "      <td>...</td>\n",
       "      <td>...</td>\n",
       "    </tr>\n",
       "    <tr>\n",
       "      <th>33830</th>\n",
       "      <td>大众 捷达 2019款 梦想版 1.5L 自动时尚型</td>\n",
       "      <td>6.88</td>\n",
       "      <td>10.29</td>\n",
       "      <td>2019</td>\n",
       "      <td>2.80</td>\n",
       "      <td>1.5L</td>\n",
       "      <td>0</td>\n",
       "    </tr>\n",
       "    <tr>\n",
       "      <th>33831</th>\n",
       "      <td>大众 捷达 2017款 1.4L 手动时尚型</td>\n",
       "      <td>5.20</td>\n",
       "      <td>8.67</td>\n",
       "      <td>2019</td>\n",
       "      <td>2.20</td>\n",
       "      <td>1.4L</td>\n",
       "      <td>1</td>\n",
       "    </tr>\n",
       "    <tr>\n",
       "      <th>33832</th>\n",
       "      <td>大众 捷达 2015款 1.4L 手动舒适型</td>\n",
       "      <td>4.48</td>\n",
       "      <td>10.07</td>\n",
       "      <td>2016</td>\n",
       "      <td>7.86</td>\n",
       "      <td>1.4L</td>\n",
       "      <td>1</td>\n",
       "    </tr>\n",
       "    <tr>\n",
       "      <th>33833</th>\n",
       "      <td>大众 捷达 2017款 1.5L 自动时尚型</td>\n",
       "      <td>5.80</td>\n",
       "      <td>10.38</td>\n",
       "      <td>2017</td>\n",
       "      <td>3.00</td>\n",
       "      <td>1.5L</td>\n",
       "      <td>0</td>\n",
       "    </tr>\n",
       "    <tr>\n",
       "      <th>33834</th>\n",
       "      <td>大众 捷达 2013款 1.6L 自动豪华型</td>\n",
       "      <td>4.60</td>\n",
       "      <td>12.95</td>\n",
       "      <td>2013</td>\n",
       "      <td>3.00</td>\n",
       "      <td>1.6L</td>\n",
       "      <td>0</td>\n",
       "    </tr>\n",
       "  </tbody>\n",
       "</table>\n",
       "<p>33827 rows × 7 columns</p>\n",
       "</div>"
      ],
      "text/plain": [
       "                             车型_品牌  车主报价（万）  新车指导价（万）  车牌注册日期  里程（万公里）    排量  \\\n",
       "0       大众 途观 2010款 2.0TSI 自动四驱菁英版     8.70     30.59    2011     6.54  2.0T   \n",
       "1      大众 速腾 2014款 改款 1.4TSI 手动豪华型     6.70     16.69    2015     5.20  1.4T   \n",
       "2        大众 迈腾 2012款 改款 1.8TSI 领先型     8.00     23.86    2012    15.10  1.8T   \n",
       "3           大众 宝来 2012款 1.6L 自动时尚型     4.78     13.00    2012    11.80  1.6L   \n",
       "4      大众 朗逸 2013款 改款经典 1.6L 自动风尚版     6.98     13.56    2017     3.37  1.6L   \n",
       "...                            ...      ...       ...     ...      ...   ...   \n",
       "33830   大众 捷达 2019款 梦想版 1.5L 自动时尚型     6.88     10.29    2019     2.80  1.5L   \n",
       "33831       大众 捷达 2017款 1.4L 手动时尚型     5.20      8.67    2019     2.20  1.4L   \n",
       "33832       大众 捷达 2015款 1.4L 手动舒适型     4.48     10.07    2016     7.86  1.4L   \n",
       "33833       大众 捷达 2017款 1.5L 自动时尚型     5.80     10.38    2017     3.00  1.5L   \n",
       "33834       大众 捷达 2013款 1.6L 自动豪华型     4.60     12.95    2013     3.00  1.6L   \n",
       "\n",
       "       变速箱  \n",
       "0        0  \n",
       "1        1  \n",
       "2        0  \n",
       "3        0  \n",
       "4        0  \n",
       "...    ...  \n",
       "33830    0  \n",
       "33831    1  \n",
       "33832    1  \n",
       "33833    0  \n",
       "33834    0  \n",
       "\n",
       "[33827 rows x 7 columns]"
      ]
     },
     "execution_count": 93,
     "metadata": {},
     "output_type": "execute_result"
    }
   ],
   "source": [
    "df1['车牌注册日期'] = df1['车牌注册日期'].str.split('年', expand=True)[0].apply(pd.to_numeric, errors ='ignore')\n",
    "df1"
   ]
  },
  {
   "cell_type": "code",
   "execution_count": 94,
   "id": "amended-creativity",
   "metadata": {},
   "outputs": [
    {
     "name": "stderr",
     "output_type": "stream",
     "text": [
      "D:\\Program Files (x86)\\Anaconda3\\envs\\myfirstpytorch\\lib\\site-packages\\ipykernel_launcher.py:2: SettingWithCopyWarning: \n",
      "A value is trying to be set on a copy of a slice from a DataFrame.\n",
      "Try using .loc[row_indexer,col_indexer] = value instead\n",
      "\n",
      "See the caveats in the documentation: https://pandas.pydata.org/pandas-docs/stable/user_guide/indexing.html#returning-a-view-versus-a-copy\n",
      "  \n"
     ]
    },
    {
     "data": {
      "text/html": [
       "<div>\n",
       "<style scoped>\n",
       "    .dataframe tbody tr th:only-of-type {\n",
       "        vertical-align: middle;\n",
       "    }\n",
       "\n",
       "    .dataframe tbody tr th {\n",
       "        vertical-align: top;\n",
       "    }\n",
       "\n",
       "    .dataframe thead th {\n",
       "        text-align: right;\n",
       "    }\n",
       "</style>\n",
       "<table border=\"1\" class=\"dataframe\">\n",
       "  <thead>\n",
       "    <tr style=\"text-align: right;\">\n",
       "      <th></th>\n",
       "      <th>车型_品牌</th>\n",
       "      <th>车主报价（万）</th>\n",
       "      <th>新车指导价（万）</th>\n",
       "      <th>车牌注册日期</th>\n",
       "      <th>里程（万公里）</th>\n",
       "      <th>排量</th>\n",
       "      <th>变速箱</th>\n",
       "      <th>车龄</th>\n",
       "    </tr>\n",
       "  </thead>\n",
       "  <tbody>\n",
       "    <tr>\n",
       "      <th>0</th>\n",
       "      <td>大众 途观 2010款 2.0TSI 自动四驱菁英版</td>\n",
       "      <td>8.70</td>\n",
       "      <td>30.59</td>\n",
       "      <td>2011</td>\n",
       "      <td>6.54</td>\n",
       "      <td>2.0T</td>\n",
       "      <td>0</td>\n",
       "      <td>10</td>\n",
       "    </tr>\n",
       "    <tr>\n",
       "      <th>1</th>\n",
       "      <td>大众 速腾 2014款 改款 1.4TSI 手动豪华型</td>\n",
       "      <td>6.70</td>\n",
       "      <td>16.69</td>\n",
       "      <td>2015</td>\n",
       "      <td>5.20</td>\n",
       "      <td>1.4T</td>\n",
       "      <td>1</td>\n",
       "      <td>6</td>\n",
       "    </tr>\n",
       "    <tr>\n",
       "      <th>2</th>\n",
       "      <td>大众 迈腾 2012款 改款 1.8TSI 领先型</td>\n",
       "      <td>8.00</td>\n",
       "      <td>23.86</td>\n",
       "      <td>2012</td>\n",
       "      <td>15.10</td>\n",
       "      <td>1.8T</td>\n",
       "      <td>0</td>\n",
       "      <td>9</td>\n",
       "    </tr>\n",
       "    <tr>\n",
       "      <th>3</th>\n",
       "      <td>大众 宝来 2012款 1.6L 自动时尚型</td>\n",
       "      <td>4.78</td>\n",
       "      <td>13.00</td>\n",
       "      <td>2012</td>\n",
       "      <td>11.80</td>\n",
       "      <td>1.6L</td>\n",
       "      <td>0</td>\n",
       "      <td>9</td>\n",
       "    </tr>\n",
       "    <tr>\n",
       "      <th>4</th>\n",
       "      <td>大众 朗逸 2013款 改款经典 1.6L 自动风尚版</td>\n",
       "      <td>6.98</td>\n",
       "      <td>13.56</td>\n",
       "      <td>2017</td>\n",
       "      <td>3.37</td>\n",
       "      <td>1.6L</td>\n",
       "      <td>0</td>\n",
       "      <td>4</td>\n",
       "    </tr>\n",
       "    <tr>\n",
       "      <th>...</th>\n",
       "      <td>...</td>\n",
       "      <td>...</td>\n",
       "      <td>...</td>\n",
       "      <td>...</td>\n",
       "      <td>...</td>\n",
       "      <td>...</td>\n",
       "      <td>...</td>\n",
       "      <td>...</td>\n",
       "    </tr>\n",
       "    <tr>\n",
       "      <th>33830</th>\n",
       "      <td>大众 捷达 2019款 梦想版 1.5L 自动时尚型</td>\n",
       "      <td>6.88</td>\n",
       "      <td>10.29</td>\n",
       "      <td>2019</td>\n",
       "      <td>2.80</td>\n",
       "      <td>1.5L</td>\n",
       "      <td>0</td>\n",
       "      <td>2</td>\n",
       "    </tr>\n",
       "    <tr>\n",
       "      <th>33831</th>\n",
       "      <td>大众 捷达 2017款 1.4L 手动时尚型</td>\n",
       "      <td>5.20</td>\n",
       "      <td>8.67</td>\n",
       "      <td>2019</td>\n",
       "      <td>2.20</td>\n",
       "      <td>1.4L</td>\n",
       "      <td>1</td>\n",
       "      <td>2</td>\n",
       "    </tr>\n",
       "    <tr>\n",
       "      <th>33832</th>\n",
       "      <td>大众 捷达 2015款 1.4L 手动舒适型</td>\n",
       "      <td>4.48</td>\n",
       "      <td>10.07</td>\n",
       "      <td>2016</td>\n",
       "      <td>7.86</td>\n",
       "      <td>1.4L</td>\n",
       "      <td>1</td>\n",
       "      <td>5</td>\n",
       "    </tr>\n",
       "    <tr>\n",
       "      <th>33833</th>\n",
       "      <td>大众 捷达 2017款 1.5L 自动时尚型</td>\n",
       "      <td>5.80</td>\n",
       "      <td>10.38</td>\n",
       "      <td>2017</td>\n",
       "      <td>3.00</td>\n",
       "      <td>1.5L</td>\n",
       "      <td>0</td>\n",
       "      <td>4</td>\n",
       "    </tr>\n",
       "    <tr>\n",
       "      <th>33834</th>\n",
       "      <td>大众 捷达 2013款 1.6L 自动豪华型</td>\n",
       "      <td>4.60</td>\n",
       "      <td>12.95</td>\n",
       "      <td>2013</td>\n",
       "      <td>3.00</td>\n",
       "      <td>1.6L</td>\n",
       "      <td>0</td>\n",
       "      <td>8</td>\n",
       "    </tr>\n",
       "  </tbody>\n",
       "</table>\n",
       "<p>33827 rows × 8 columns</p>\n",
       "</div>"
      ],
      "text/plain": [
       "                             车型_品牌  车主报价（万）  新车指导价（万）  车牌注册日期  里程（万公里）    排量  \\\n",
       "0       大众 途观 2010款 2.0TSI 自动四驱菁英版     8.70     30.59    2011     6.54  2.0T   \n",
       "1      大众 速腾 2014款 改款 1.4TSI 手动豪华型     6.70     16.69    2015     5.20  1.4T   \n",
       "2        大众 迈腾 2012款 改款 1.8TSI 领先型     8.00     23.86    2012    15.10  1.8T   \n",
       "3           大众 宝来 2012款 1.6L 自动时尚型     4.78     13.00    2012    11.80  1.6L   \n",
       "4      大众 朗逸 2013款 改款经典 1.6L 自动风尚版     6.98     13.56    2017     3.37  1.6L   \n",
       "...                            ...      ...       ...     ...      ...   ...   \n",
       "33830   大众 捷达 2019款 梦想版 1.5L 自动时尚型     6.88     10.29    2019     2.80  1.5L   \n",
       "33831       大众 捷达 2017款 1.4L 手动时尚型     5.20      8.67    2019     2.20  1.4L   \n",
       "33832       大众 捷达 2015款 1.4L 手动舒适型     4.48     10.07    2016     7.86  1.4L   \n",
       "33833       大众 捷达 2017款 1.5L 自动时尚型     5.80     10.38    2017     3.00  1.5L   \n",
       "33834       大众 捷达 2013款 1.6L 自动豪华型     4.60     12.95    2013     3.00  1.6L   \n",
       "\n",
       "       变速箱  车龄  \n",
       "0        0  10  \n",
       "1        1   6  \n",
       "2        0   9  \n",
       "3        0   9  \n",
       "4        0   4  \n",
       "...    ...  ..  \n",
       "33830    0   2  \n",
       "33831    1   2  \n",
       "33832    1   5  \n",
       "33833    0   4  \n",
       "33834    0   8  \n",
       "\n",
       "[33827 rows x 8 columns]"
      ]
     },
     "execution_count": 94,
     "metadata": {},
     "output_type": "execute_result"
    }
   ],
   "source": [
    "# 将车牌注册日期转换为车龄\n",
    "df1['车龄'] = 2021-df1['车牌注册日期']\n",
    "df1"
   ]
  },
  {
   "cell_type": "code",
   "execution_count": 96,
   "id": "behind-blackberry",
   "metadata": {},
   "outputs": [
    {
     "data": {
      "text/html": [
       "<div>\n",
       "<style scoped>\n",
       "    .dataframe tbody tr th:only-of-type {\n",
       "        vertical-align: middle;\n",
       "    }\n",
       "\n",
       "    .dataframe tbody tr th {\n",
       "        vertical-align: top;\n",
       "    }\n",
       "\n",
       "    .dataframe thead th {\n",
       "        text-align: right;\n",
       "    }\n",
       "</style>\n",
       "<table border=\"1\" class=\"dataframe\">\n",
       "  <thead>\n",
       "    <tr style=\"text-align: right;\">\n",
       "      <th></th>\n",
       "      <th>车型_品牌</th>\n",
       "      <th>车主报价（万）</th>\n",
       "      <th>新车指导价（万）</th>\n",
       "      <th>车牌注册日期</th>\n",
       "      <th>里程（万公里）</th>\n",
       "      <th>排量</th>\n",
       "      <th>变速箱</th>\n",
       "    </tr>\n",
       "  </thead>\n",
       "  <tbody>\n",
       "    <tr>\n",
       "      <th>0</th>\n",
       "      <td>大众 途观 2010款 2.0TSI 自动四驱菁英版</td>\n",
       "      <td>8.70</td>\n",
       "      <td>30.59</td>\n",
       "      <td>2011年</td>\n",
       "      <td>6.54万公里</td>\n",
       "      <td>2.0T</td>\n",
       "      <td>自动</td>\n",
       "    </tr>\n",
       "    <tr>\n",
       "      <th>1</th>\n",
       "      <td>大众 速腾 2014款 改款 1.4TSI 手动豪华型</td>\n",
       "      <td>6.70</td>\n",
       "      <td>16.69</td>\n",
       "      <td>2015年</td>\n",
       "      <td>5.2万公里</td>\n",
       "      <td>1.4T</td>\n",
       "      <td>手动</td>\n",
       "    </tr>\n",
       "    <tr>\n",
       "      <th>2</th>\n",
       "      <td>大众 迈腾 2012款 改款 1.8TSI 领先型</td>\n",
       "      <td>8.00</td>\n",
       "      <td>23.86</td>\n",
       "      <td>2012年</td>\n",
       "      <td>15.1万公里</td>\n",
       "      <td>1.8T</td>\n",
       "      <td>自动</td>\n",
       "    </tr>\n",
       "    <tr>\n",
       "      <th>3</th>\n",
       "      <td>大众 宝来 2012款 1.6L 自动时尚型</td>\n",
       "      <td>4.78</td>\n",
       "      <td>13.00</td>\n",
       "      <td>2012年</td>\n",
       "      <td>11.8万公里</td>\n",
       "      <td>1.6L</td>\n",
       "      <td>自动</td>\n",
       "    </tr>\n",
       "    <tr>\n",
       "      <th>4</th>\n",
       "      <td>大众 朗逸 2013款 改款经典 1.6L 自动风尚版</td>\n",
       "      <td>6.98</td>\n",
       "      <td>13.56</td>\n",
       "      <td>2017年</td>\n",
       "      <td>3.37万公里</td>\n",
       "      <td>1.6L</td>\n",
       "      <td>自动</td>\n",
       "    </tr>\n",
       "    <tr>\n",
       "      <th>...</th>\n",
       "      <td>...</td>\n",
       "      <td>...</td>\n",
       "      <td>...</td>\n",
       "      <td>...</td>\n",
       "      <td>...</td>\n",
       "      <td>...</td>\n",
       "      <td>...</td>\n",
       "    </tr>\n",
       "    <tr>\n",
       "      <th>33830</th>\n",
       "      <td>大众 捷达 2019款 梦想版 1.5L 自动时尚型</td>\n",
       "      <td>6.88</td>\n",
       "      <td>10.29</td>\n",
       "      <td>2019年</td>\n",
       "      <td>2.8万公里</td>\n",
       "      <td>1.5L</td>\n",
       "      <td>自动</td>\n",
       "    </tr>\n",
       "    <tr>\n",
       "      <th>33831</th>\n",
       "      <td>大众 捷达 2017款 1.4L 手动时尚型</td>\n",
       "      <td>5.20</td>\n",
       "      <td>8.67</td>\n",
       "      <td>2019年</td>\n",
       "      <td>2.2万公里</td>\n",
       "      <td>1.4L</td>\n",
       "      <td>手动</td>\n",
       "    </tr>\n",
       "    <tr>\n",
       "      <th>33832</th>\n",
       "      <td>大众 捷达 2015款 1.4L 手动舒适型</td>\n",
       "      <td>4.48</td>\n",
       "      <td>10.07</td>\n",
       "      <td>2016年</td>\n",
       "      <td>7.86万公里</td>\n",
       "      <td>1.4L</td>\n",
       "      <td>手动</td>\n",
       "    </tr>\n",
       "    <tr>\n",
       "      <th>33833</th>\n",
       "      <td>大众 捷达 2017款 1.5L 自动时尚型</td>\n",
       "      <td>5.80</td>\n",
       "      <td>10.38</td>\n",
       "      <td>2017年</td>\n",
       "      <td>3万公里</td>\n",
       "      <td>1.5L</td>\n",
       "      <td>自动</td>\n",
       "    </tr>\n",
       "    <tr>\n",
       "      <th>33834</th>\n",
       "      <td>大众 捷达 2013款 1.6L 自动豪华型</td>\n",
       "      <td>4.60</td>\n",
       "      <td>12.95</td>\n",
       "      <td>2013年</td>\n",
       "      <td>3万公里</td>\n",
       "      <td>1.6L</td>\n",
       "      <td>自动</td>\n",
       "    </tr>\n",
       "  </tbody>\n",
       "</table>\n",
       "<p>33835 rows × 7 columns</p>\n",
       "</div>"
      ],
      "text/plain": [
       "                             车型_品牌  车主报价（万）  新车指导价（万） 车牌注册日期  里程（万公里）    排量  \\\n",
       "0       大众 途观 2010款 2.0TSI 自动四驱菁英版     8.70     30.59  2011年  6.54万公里  2.0T   \n",
       "1      大众 速腾 2014款 改款 1.4TSI 手动豪华型     6.70     16.69  2015年   5.2万公里  1.4T   \n",
       "2        大众 迈腾 2012款 改款 1.8TSI 领先型     8.00     23.86  2012年  15.1万公里  1.8T   \n",
       "3           大众 宝来 2012款 1.6L 自动时尚型     4.78     13.00  2012年  11.8万公里  1.6L   \n",
       "4      大众 朗逸 2013款 改款经典 1.6L 自动风尚版     6.98     13.56  2017年  3.37万公里  1.6L   \n",
       "...                            ...      ...       ...    ...      ...   ...   \n",
       "33830   大众 捷达 2019款 梦想版 1.5L 自动时尚型     6.88     10.29  2019年   2.8万公里  1.5L   \n",
       "33831       大众 捷达 2017款 1.4L 手动时尚型     5.20      8.67  2019年   2.2万公里  1.4L   \n",
       "33832       大众 捷达 2015款 1.4L 手动舒适型     4.48     10.07  2016年  7.86万公里  1.4L   \n",
       "33833       大众 捷达 2017款 1.5L 自动时尚型     5.80     10.38  2017年     3万公里  1.5L   \n",
       "33834       大众 捷达 2013款 1.6L 自动豪华型     4.60     12.95  2013年     3万公里  1.6L   \n",
       "\n",
       "      变速箱  \n",
       "0      自动  \n",
       "1      手动  \n",
       "2      自动  \n",
       "3      自动  \n",
       "4      自动  \n",
       "...    ..  \n",
       "33830  自动  \n",
       "33831  手动  \n",
       "33832  手动  \n",
       "33833  自动  \n",
       "33834  自动  \n",
       "\n",
       "[33835 rows x 7 columns]"
      ]
     },
     "execution_count": 96,
     "metadata": {},
     "output_type": "execute_result"
    }
   ],
   "source": [
    "carData1"
   ]
  },
  {
   "cell_type": "code",
   "execution_count": 115,
   "id": "closing-belize",
   "metadata": {},
   "outputs": [
    {
     "data": {
      "text/plain": [
       "大众           10566\n",
       "日产            1494\n",
       "福特            1457\n",
       "现代            1449\n",
       "雪佛兰           1365\n",
       "             ...  \n",
       "DS               2\n",
       "奔驰SLS级AMG        2\n",
       "斯巴鲁XV            2\n",
       "中华V3             2\n",
       "雷克萨斯IS           2\n",
       "Name: 0, Length: 200, dtype: int64"
      ]
     },
     "execution_count": 115,
     "metadata": {},
     "output_type": "execute_result"
    }
   ],
   "source": [
    "df1['车型_品牌'].str.split(' ', expand=True)[0].value_counts()[0:200]"
   ]
  },
  {
   "cell_type": "code",
   "execution_count": 283,
   "id": "productive-session",
   "metadata": {},
   "outputs": [],
   "source": [
    "listxx = ['大众','奔驰','宝马','奥迪','日产','丰田','本田','马自达','哈弗','东风','别克','福特','现代','雪佛兰','吉利','斯巴鲁','雷克萨斯']"
   ]
  },
  {
   "cell_type": "code",
   "execution_count": 184,
   "id": "dominican-answer",
   "metadata": {},
   "outputs": [],
   "source": [
    "dazhong_data = df1.loc[df1['车型_品牌'].str.contains('大众')]\n",
    "age_value = dazhong_data['车型_品牌'].groupby(dazhong_data['车龄']).count().tolist()\n",
    "age_label = dazhong_data['车龄'].unique()\n",
    "age_label = np.sort(age_label).tolist()\n",
    "age_label"
   ]
  },
  {
   "cell_type": "code",
   "execution_count": 211,
   "id": "passing-presentation",
   "metadata": {},
   "outputs": [
    {
     "data": {
      "image/png": "[encoded data removed]",
      "text/plain": [
       "<Figure size 432x288 with 1 Axes>"
      ]
     },
     "metadata": {
      "needs_background": "light"
     },
     "output_type": "display_data"
    }
   ],
   "source": [
    "plt.figure()\n",
    "plt.bar(age_label,age_value)\n",
    "# plt.legend(patches,\n",
    "#            labels=['%s, %1.1f %%' % (l, s) for l, s in zip(age_label, age_value)],\n",
    "#            fontsize=12,\n",
    "#            title=\"车龄\",\n",
    "#            loc=\"center left\",\n",
    "#            bbox_to_anchor=(0.91, 0, 0.3, 1))\n",
    "# Equal aspect ratio 保证画出的图是正圆形\n",
    "plt.title('不同车龄段二手车数量')\n",
    "plt.xlabel('车龄')\n",
    "plt.ylabel('二手车数量')\n",
    "plt.show()"
   ]
  },
  {
   "cell_type": "code",
   "execution_count": 232,
   "id": "greatest-puzzle",
   "metadata": {},
   "outputs": [
    {
     "name": "stderr",
     "output_type": "stream",
     "text": [
      "D:\\Program Files (x86)\\Anaconda3\\envs\\myfirstpytorch\\lib\\site-packages\\ipykernel_launcher.py:2: SettingWithCopyWarning: \n",
      "A value is trying to be set on a copy of a slice from a DataFrame.\n",
      "Try using .loc[row_indexer,col_indexer] = value instead\n",
      "\n",
      "See the caveats in the documentation: https://pandas.pydata.org/pandas-docs/stable/user_guide/indexing.html#returning-a-view-versus-a-copy\n",
      "  \n"
     ]
    },
    {
     "data": {
      "text/html": [
       "<div>\n",
       "<style scoped>\n",
       "    .dataframe tbody tr th:only-of-type {\n",
       "        vertical-align: middle;\n",
       "    }\n",
       "\n",
       "    .dataframe tbody tr th {\n",
       "        vertical-align: top;\n",
       "    }\n",
       "\n",
       "    .dataframe thead th {\n",
       "        text-align: right;\n",
       "    }\n",
       "</style>\n",
       "<table border=\"1\" class=\"dataframe\">\n",
       "  <thead>\n",
       "    <tr style=\"text-align: right;\">\n",
       "      <th></th>\n",
       "      <th>车型_品牌</th>\n",
       "      <th>车主报价（万）</th>\n",
       "      <th>新车指导价（万）</th>\n",
       "      <th>车牌注册日期</th>\n",
       "      <th>里程（万公里）</th>\n",
       "      <th>排量</th>\n",
       "      <th>变速箱</th>\n",
       "      <th>车龄</th>\n",
       "      <th>折扣率</th>\n",
       "    </tr>\n",
       "  </thead>\n",
       "  <tbody>\n",
       "    <tr>\n",
       "      <th>0</th>\n",
       "      <td>大众 途观 2010款 2.0TSI 自动四驱菁英版</td>\n",
       "      <td>8.70</td>\n",
       "      <td>30.59</td>\n",
       "      <td>2011</td>\n",
       "      <td>6.54</td>\n",
       "      <td>2.0T</td>\n",
       "      <td>0</td>\n",
       "      <td>10</td>\n",
       "      <td>71.559333</td>\n",
       "    </tr>\n",
       "    <tr>\n",
       "      <th>1</th>\n",
       "      <td>大众 速腾 2014款 改款 1.4TSI 手动豪华型</td>\n",
       "      <td>6.70</td>\n",
       "      <td>16.69</td>\n",
       "      <td>2015</td>\n",
       "      <td>5.20</td>\n",
       "      <td>1.4T</td>\n",
       "      <td>1</td>\n",
       "      <td>6</td>\n",
       "      <td>59.856201</td>\n",
       "    </tr>\n",
       "    <tr>\n",
       "      <th>2</th>\n",
       "      <td>大众 迈腾 2012款 改款 1.8TSI 领先型</td>\n",
       "      <td>8.00</td>\n",
       "      <td>23.86</td>\n",
       "      <td>2012</td>\n",
       "      <td>15.10</td>\n",
       "      <td>1.8T</td>\n",
       "      <td>0</td>\n",
       "      <td>9</td>\n",
       "      <td>66.471081</td>\n",
       "    </tr>\n",
       "    <tr>\n",
       "      <th>3</th>\n",
       "      <td>大众 宝来 2012款 1.6L 自动时尚型</td>\n",
       "      <td>4.78</td>\n",
       "      <td>13.00</td>\n",
       "      <td>2012</td>\n",
       "      <td>11.80</td>\n",
       "      <td>1.6L</td>\n",
       "      <td>0</td>\n",
       "      <td>9</td>\n",
       "      <td>63.230769</td>\n",
       "    </tr>\n",
       "    <tr>\n",
       "      <th>4</th>\n",
       "      <td>大众 朗逸 2013款 改款经典 1.6L 自动风尚版</td>\n",
       "      <td>6.98</td>\n",
       "      <td>13.56</td>\n",
       "      <td>2017</td>\n",
       "      <td>3.37</td>\n",
       "      <td>1.6L</td>\n",
       "      <td>0</td>\n",
       "      <td>4</td>\n",
       "      <td>48.525074</td>\n",
       "    </tr>\n",
       "    <tr>\n",
       "      <th>...</th>\n",
       "      <td>...</td>\n",
       "      <td>...</td>\n",
       "      <td>...</td>\n",
       "      <td>...</td>\n",
       "      <td>...</td>\n",
       "      <td>...</td>\n",
       "      <td>...</td>\n",
       "      <td>...</td>\n",
       "      <td>...</td>\n",
       "    </tr>\n",
       "    <tr>\n",
       "      <th>33830</th>\n",
       "      <td>大众 捷达 2019款 梦想版 1.5L 自动时尚型</td>\n",
       "      <td>6.88</td>\n",
       "      <td>10.29</td>\n",
       "      <td>2019</td>\n",
       "      <td>2.80</td>\n",
       "      <td>1.5L</td>\n",
       "      <td>0</td>\n",
       "      <td>2</td>\n",
       "      <td>33.138970</td>\n",
       "    </tr>\n",
       "    <tr>\n",
       "      <th>33831</th>\n",
       "      <td>大众 捷达 2017款 1.4L 手动时尚型</td>\n",
       "      <td>5.20</td>\n",
       "      <td>8.67</td>\n",
       "      <td>2019</td>\n",
       "      <td>2.20</td>\n",
       "      <td>1.4L</td>\n",
       "      <td>1</td>\n",
       "      <td>2</td>\n",
       "      <td>40.023068</td>\n",
       "    </tr>\n",
       "    <tr>\n",
       "      <th>33832</th>\n",
       "      <td>大众 捷达 2015款 1.4L 手动舒适型</td>\n",
       "      <td>4.48</td>\n",
       "      <td>10.07</td>\n",
       "      <td>2016</td>\n",
       "      <td>7.86</td>\n",
       "      <td>1.4L</td>\n",
       "      <td>1</td>\n",
       "      <td>5</td>\n",
       "      <td>55.511420</td>\n",
       "    </tr>\n",
       "    <tr>\n",
       "      <th>33833</th>\n",
       "      <td>大众 捷达 2017款 1.5L 自动时尚型</td>\n",
       "      <td>5.80</td>\n",
       "      <td>10.38</td>\n",
       "      <td>2017</td>\n",
       "      <td>3.00</td>\n",
       "      <td>1.5L</td>\n",
       "      <td>0</td>\n",
       "      <td>4</td>\n",
       "      <td>44.123314</td>\n",
       "    </tr>\n",
       "    <tr>\n",
       "      <th>33834</th>\n",
       "      <td>大众 捷达 2013款 1.6L 自动豪华型</td>\n",
       "      <td>4.60</td>\n",
       "      <td>12.95</td>\n",
       "      <td>2013</td>\n",
       "      <td>3.00</td>\n",
       "      <td>1.6L</td>\n",
       "      <td>0</td>\n",
       "      <td>8</td>\n",
       "      <td>64.478764</td>\n",
       "    </tr>\n",
       "  </tbody>\n",
       "</table>\n",
       "<p>12451 rows × 9 columns</p>\n",
       "</div>"
      ],
      "text/plain": [
       "                             车型_品牌  车主报价（万）  新车指导价（万）  车牌注册日期  里程（万公里）    排量  \\\n",
       "0       大众 途观 2010款 2.0TSI 自动四驱菁英版     8.70     30.59    2011     6.54  2.0T   \n",
       "1      大众 速腾 2014款 改款 1.4TSI 手动豪华型     6.70     16.69    2015     5.20  1.4T   \n",
       "2        大众 迈腾 2012款 改款 1.8TSI 领先型     8.00     23.86    2012    15.10  1.8T   \n",
       "3           大众 宝来 2012款 1.6L 自动时尚型     4.78     13.00    2012    11.80  1.6L   \n",
       "4      大众 朗逸 2013款 改款经典 1.6L 自动风尚版     6.98     13.56    2017     3.37  1.6L   \n",
       "...                            ...      ...       ...     ...      ...   ...   \n",
       "33830   大众 捷达 2019款 梦想版 1.5L 自动时尚型     6.88     10.29    2019     2.80  1.5L   \n",
       "33831       大众 捷达 2017款 1.4L 手动时尚型     5.20      8.67    2019     2.20  1.4L   \n",
       "33832       大众 捷达 2015款 1.4L 手动舒适型     4.48     10.07    2016     7.86  1.4L   \n",
       "33833       大众 捷达 2017款 1.5L 自动时尚型     5.80     10.38    2017     3.00  1.5L   \n",
       "33834       大众 捷达 2013款 1.6L 自动豪华型     4.60     12.95    2013     3.00  1.6L   \n",
       "\n",
       "       变速箱  车龄        折扣率  \n",
       "0        0  10  71.559333  \n",
       "1        1   6  59.856201  \n",
       "2        0   9  66.471081  \n",
       "3        0   9  63.230769  \n",
       "4        0   4  48.525074  \n",
       "...    ...  ..        ...  \n",
       "33830    0   2  33.138970  \n",
       "33831    1   2  40.023068  \n",
       "33832    1   5  55.511420  \n",
       "33833    0   4  44.123314  \n",
       "33834    0   8  64.478764  \n",
       "\n",
       "[12451 rows x 9 columns]"
      ]
     },
     "execution_count": 232,
     "metadata": {},
     "output_type": "execute_result"
    },
    {
     "data": {
      "image/png": "[encoded data removed]",
      "text/plain": [
       "<Figure size 432x288 with 1 Axes>"
      ]
     },
     "metadata": {},
     "output_type": "display_data"
    }
   ],
   "source": [
    "discount=(dazhong_data.loc[:,'新车指导价（万）']-dazhong_data.loc[:,'车主报价（万）'])*100/dazhong_data.loc[:,'新车指导价（万）']\n",
    "dazhong_data['折扣率'] = discount\n",
    "plt.scatter(dazhong_data['里程（万公里）'],discount)\n",
    "plt.xlabel('里程（万公里）')\n",
    "plt.ylabel('折扣率(%)')\n",
    "plt.title('折扣率与公里数散点图')\n",
    "dazhong_data"
   ]
  },
  {
   "cell_type": "code",
   "execution_count": 235,
   "id": "limited-passion",
   "metadata": {},
   "outputs": [
    {
     "data": {
      "text/plain": [
       "<AxesSubplot:xlabel='车牌注册日期', ylabel='折扣率'>"
      ]
     },
     "execution_count": 235,
     "metadata": {},
     "output_type": "execute_result"
    },
    {
     "data": {
      "image/png": "[encoded data removed]",
      "text/plain": [
       "<Figure size 432x288 with 1 Axes>"
      ]
     },
     "metadata": {},
     "output_type": "display_data"
    }
   ],
   "source": [
    "sns.stripplot(x=\"车牌注册日期\",y=\"折扣率\",data=dazhong_data) "
   ]
  },
  {
   "cell_type": "code",
   "execution_count": 271,
   "id": "studied-vegetarian",
   "metadata": {},
   "outputs": [
    {
     "data": {
      "image/png": "[encoded data removed]",
      "text/plain": [
       "<Figure size 432x288 with 1 Axes>"
      ]
     },
     "metadata": {},
     "output_type": "display_data"
    }
   ],
   "source": [
    "gear_data_value = dazhong_data['车型_品牌'].groupby(dazhong_data['变速箱']).count().tolist()\n",
    "gear_data_label = ['自动变速','手动变速', '带涡轮增压','不带涡轮增压']\n",
    "pailiang_data_value = [dazhong_data.loc[dazhong_data['排量'].str.contains('T')].shape[0],dazhong_data.loc[dazhong_data['排量'].str.contains('L')].shape[0]]\n",
    "pailiang_data_value\n",
    "pailiang_gear = [gear_data_value[0],gear_data_value[1],pailiang_data_value[0],pailiang_data_value[1]]\n",
    "plt.bar(gear_data_label,pailiang_gear)\n",
    "plt.ylabel('二手车数量')\n",
    "plt.show()"
   ]
  },
  {
   "cell_type": "code",
   "execution_count": 277,
   "id": "middle-netscape",
   "metadata": {},
   "outputs": [
    {
     "name": "stderr",
     "output_type": "stream",
     "text": [
      "D:\\Program Files (x86)\\Anaconda3\\envs\\myfirstpytorch\\lib\\site-packages\\ipykernel_launcher.py:1: SettingWithCopyWarning: \n",
      "A value is trying to be set on a copy of a slice from a DataFrame.\n",
      "Try using .loc[row_indexer,col_indexer] = value instead\n",
      "\n",
      "See the caveats in the documentation: https://pandas.pydata.org/pandas-docs/stable/user_guide/indexing.html#returning-a-view-versus-a-copy\n",
      "  \"\"\"Entry point for launching an IPython kernel.\n"
     ]
    },
    {
     "data": {
      "text/plain": [
       "Text(0, 0.5, '二手车数量')"
      ]
     },
     "execution_count": 277,
     "metadata": {},
     "output_type": "execute_result"
    },
    {
     "data": {
      "image/png": "[encoded data removed]",
      "text/plain": [
       "<Figure size 432x288 with 1 Axes>"
      ]
     },
     "metadata": {},
     "output_type": "display_data"
    }
   ],
   "source": [
    "dazhong_data['车主报价区间'] = pd.cut(x=dazhong_data[\"车主报价（万）\"],bins=6)\n",
    "baojia_value = dazhong_data['车型_品牌'].groupby(dazhong_data['车主报价区间']).count()\n",
    "baojia_value.plot()\n",
    "plt.xticks(rotation = 45)\n",
    "plt.ylabel('二手车数量')"
   ]
  },
  {
   "cell_type": "code",
   "execution_count": 278,
   "id": "civilian-stamp",
   "metadata": {},
   "outputs": [
    {
     "name": "stderr",
     "output_type": "stream",
     "text": [
      "D:\\Program Files (x86)\\Anaconda3\\envs\\myfirstpytorch\\lib\\site-packages\\ipykernel_launcher.py:1: SettingWithCopyWarning: \n",
      "A value is trying to be set on a copy of a slice from a DataFrame.\n",
      "Try using .loc[row_indexer,col_indexer] = value instead\n",
      "\n",
      "See the caveats in the documentation: https://pandas.pydata.org/pandas-docs/stable/user_guide/indexing.html#returning-a-view-versus-a-copy\n",
      "  \"\"\"Entry point for launching an IPython kernel.\n"
     ]
    },
    {
     "data": {
      "text/plain": [
       "Text(0, 0.5, '二手车数量')"
      ]
     },
     "execution_count": 278,
     "metadata": {},
     "output_type": "execute_result"
    },
    {
     "data": {
      "image/png": "[encoded data removed]",
      "text/plain": [
       "<Figure size 432x288 with 1 Axes>"
      ]
     },
     "metadata": {},
     "output_type": "display_data"
    }
   ],
   "source": [
    "dazhong_data['新车指导价区间'] = pd.cut(x=dazhong_data[\"新车指导价（万）\"],bins=6)\n",
    "new_value = dazhong_data['车型_品牌'].groupby(dazhong_data['新车指导价区间']).count()\n",
    "new_value.plot()\n",
    "plt.xticks(rotation = 45)\n",
    "plt.ylabel('二手车数量')"
   ]
  },
  {
   "cell_type": "code",
   "execution_count": 279,
   "id": "appreciated-morgan",
   "metadata": {},
   "outputs": [
    {
     "name": "stderr",
     "output_type": "stream",
     "text": [
      "D:\\Program Files (x86)\\Anaconda3\\envs\\myfirstpytorch\\lib\\site-packages\\ipykernel_launcher.py:1: SettingWithCopyWarning: \n",
      "A value is trying to be set on a copy of a slice from a DataFrame.\n",
      "Try using .loc[row_indexer,col_indexer] = value instead\n",
      "\n",
      "See the caveats in the documentation: https://pandas.pydata.org/pandas-docs/stable/user_guide/indexing.html#returning-a-view-versus-a-copy\n",
      "  \"\"\"Entry point for launching an IPython kernel.\n"
     ]
    },
    {
     "data": {
      "text/plain": [
       "Text(0, 0.5, '二手车数量')"
      ]
     },
     "execution_count": 279,
     "metadata": {},
     "output_type": "execute_result"
    },
    {
     "data": {
      "image/png": "[encoded data removed]",
      "text/plain": [
       "<Figure size 432x288 with 1 Axes>"
      ]
     },
     "metadata": {},
     "output_type": "display_data"
    }
   ],
   "source": [
    "dazhong_data['里程区间'] = pd.cut(x=dazhong_data[\"里程（万公里）\"],bins=6)\n",
    "kilo_value = dazhong_data['车型_品牌'].groupby(dazhong_data['里程区间']).count()\n",
    "kilo_value.plot()\n",
    "plt.xticks(rotation = 45)\n",
    "plt.ylabel('二手车数量')"
   ]
  },
  {
   "cell_type": "code",
   "execution_count": 298,
   "id": "assigned-dakota",
   "metadata": {},
   "outputs": [
    {
     "name": "stdout",
     "output_type": "stream",
     "text": [
      "{'大众': 12451, '奔驰': 1710, '宝马': 1578, '奥迪': 1675, '日产': 1505, '丰田': 1339, '本田': 1699, '马自达': 1590, '哈弗': 1192, '东风': 10, '别克': 1461, '福特': 1460, '现代': 1776, '雪佛兰': 1365, '吉利': 1400, '斯巴鲁': 5, '雷克萨斯': 17}\n"
     ]
    },
    {
     "data": {
      "text/plain": [
       "Text(0, 0.5, '二手车数量')"
      ]
     },
     "execution_count": 298,
     "metadata": {},
     "output_type": "execute_result"
    },
    {
     "data": {
      "image/png": "[encoded data removed]",
      "text/plain": [
       "<Figure size 432x288 with 1 Axes>"
      ]
     },
     "metadata": {},
     "output_type": "display_data"
    }
   ],
   "source": [
    "# 总体分析\n",
    "che_count = {}\n",
    "for i in range(len(listxx)):\n",
    "    che_count[listxx[i]] = df1.loc[df1['车型_品牌'].str.contains(listxx[i])].shape[0]\n",
    "print(che_count)\n",
    "plt.bar(che_count.keys(),che_count.values())\n",
    "plt.xticks(rotation = 45)\n",
    "plt.xlabel('品牌名称')\n",
    "plt.ylabel('二手车数量')"
   ]
  }
 ],
 "metadata": {
  "kernelspec": {
   "display_name": "myfirstpytorch",
   "language": "python",
   "name": "myfirstpytorch"
  },
  "language_info": {
   "codemirror_mode": {
    "name": "ipython",
    "version": 3
   },
   "file_extension": ".py",
   "mimetype": "text/x-python",
   "name": "python",
   "nbconvert_exporter": "python",
   "pygments_lexer": "ipython3",
   "version": "3.7.10"
  }
 },
 "nbformat": 4,
 "nbformat_minor": 5
}
